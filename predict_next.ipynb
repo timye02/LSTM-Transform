{
  "cells": [
    {
      "cell_type": "code",
      "execution_count": null,
      "metadata": {
        "id": "tGEkm9m11_Tx"
      },
      "outputs": [],
      "source": [
        "pip install tensorflow-gpu"
      ]
    },
    {
      "cell_type": "code",
      "execution_count": 1,
      "metadata": {
        "id": "T7Eh2NUAIdZz"
      },
      "outputs": [],
      "source": [
        "import tensorflow as tf\n",
        "device_name = tf.test.gpu_device_name()"
      ]
    },
    {
      "cell_type": "code",
      "execution_count": null,
      "metadata": {
        "id": "PcnuDh4B2D8p"
      },
      "outputs": [],
      "source": [
        "gpu_info = !nvidia-smi\n",
        "gpu_info = '\\n'.join(gpu_info)\n",
        "if gpu_info.find('failed') >= 0:\n",
        "  print('Not connected to a GPU')\n",
        "else:\n",
        "  print(gpu_info)"
      ]
    },
    {
      "cell_type": "code",
      "execution_count": null,
      "metadata": {
        "id": "IHDBAciIgjuA"
      },
      "outputs": [],
      "source": [
        "!pip install yfinance"
      ]
    },
    {
      "cell_type": "code",
      "execution_count": 3,
      "metadata": {
        "id": "MM6GpwyUIwr5"
      },
      "outputs": [],
      "source": [
        "import pandas as pd\n",
        "from collections import deque\n",
        "import random\n",
        "import numpy as np\n",
        "from tensorflow import keras\n",
        "from tensorflow.keras.models import Sequential\n",
        "from tensorflow.keras.layers import Dense, Dropout, LSTM, BatchNormalization\n",
        "from tensorflow.keras.callbacks import TensorBoard\n",
        "from tensorflow.keras.callbacks import ModelCheckpoint\n",
        "from scipy.stats import t\n",
        "import time\n",
        "from sklearn import preprocessing\n",
        "import yfinance as yf\n",
        "from datetime import date, datetime, timedelta\n",
        "from tqdm import tqdm\n",
        "from keras.regularizers import l2\n",
        "\n",
        "#from keras.layers import BatchNormalization"
      ]
    },
    {
      "cell_type": "code",
      "execution_count": 4,
      "metadata": {
        "id": "dFAmlQHBJhLU"
      },
      "outputs": [],
      "source": [
        "#Classifying if the return in the future is positive or negative\n",
        "def classify(future):\n",
        "    if float(future) > 0:  # if the future price is higher than the current, that's a buy, or a 1\n",
        "        return 1\n",
        "    else:  # otherwise... it's a 0!\n",
        "        return 0"
      ]
    },
    {
      "cell_type": "code",
      "execution_count": 5,
      "metadata": {
        "id": "HzVNofN_Jp9s"
      },
      "outputs": [],
      "source": [
        "#Return calculation from x days before current date where x is Lag\n",
        "def ReturnCalculation (Database, Lag=1):\n",
        "    dimension=Database.shape[0];Out=np.zeros([dimension-Lag])\n",
        "    for i in range(Lag, dimension):\n",
        "         Out[i - Lag] = (np.log(Database['Close'][i]) - np.log(Database['Close'][i - Lag]))\n",
        "    return np.append(np.repeat(np.nan, Lag),Out), Database.index"
      ]
    },
    {
      "cell_type": "code",
      "execution_count": 6,
      "metadata": {
        "id": "XL2THsqvJrFe"
      },
      "outputs": [],
      "source": [
        "# Standard Deviation Calculation of the past X days where X is the LagSD\n",
        "def SDCalculation (DailyReturns, LagSD):\n",
        "    dimension=DailyReturns.shape[0]; dif=LagSD; Out=np.zeros([dimension-dif])\n",
        "    for i in range(dif, dimension):\n",
        "        Out[i - dif]=np.std(DailyReturns[i-dif:i],ddof=1)\n",
        "    return np.append(np.repeat(np.nan, dif),Out)"
      ]
    },
    {
      "cell_type": "code",
      "execution_count": 44,
      "metadata": {
        "id": "9mp5z9D-yvJz"
      },
      "outputs": [],
      "source": [
        "#Generating the same Database without FutureCalculation or Target\n",
        "def DatabaseGenerationForecast_predict(Lag, IndexEndDays, LagSD, i, sequence_len):\n",
        "    DatabaseT = yf.download(\"TSLA\", start= IndexEndDays[i].date(), end=IndexEndDays[i + sequence_len].date(), progress=False)\n",
        "    DatabaseT.dropna(inplace=True)\n",
        "    DatabaseS = yf.download(\"SPY\", start= IndexEndDays[i].date(), end=IndexEndDays[i + sequence_len].date(), progress=False)\n",
        "    DatabaseS.dropna(inplace=True)\n",
        "    DatabaseA = yf.download(\"AAPL\", start= IndexEndDays[i].date(), end=IndexEndDays[i + sequence_len].date(), progress=False)\n",
        "    DatabaseA.dropna(inplace=True)\n",
        "    DatabaseV = yf.download(\"^VIX\", start= IndexEndDays[i].date(), end=IndexEndDays[i + sequence_len].date(), progress=False)\n",
        "    DatabaseV.dropna(inplace=True)\n",
        "    DailyReturnsT, Index = ReturnCalculation(DatabaseT)\n",
        "    DailyReturnsS, Index = ReturnCalculation(DatabaseS)\n",
        "    DailyReturnsA, Index = ReturnCalculation(DatabaseA)\n",
        "    DailyReturnsV, Index = ReturnCalculation(DatabaseV)\n",
        "    SD = SDCalculation(DailyReturnsT, LagSD)\n",
        "    Data = pd.DataFrame({'TSLA_Day': DailyReturnsT, 'TSLA_Volume': DatabaseT['Volume'], 'APPL_Day': DailyReturnsA, 'APPL_Volume': DatabaseA['Volume'], 'VIX_Day': DailyReturnsV,  'SD': SD, 'SPY_Day': DailyReturnsS, 'SPY_Volume': DatabaseS['Volume']})\n",
        "    Data = Data.set_index(Index)\n",
        "    return Data.dropna()"
      ]
    },
    {
      "cell_type": "code",
      "execution_count": 8,
      "metadata": {
        "id": "2AJX4eQvmkOk"
      },
      "outputs": [],
      "source": [
        "#It generates the database for fitting transformer. No positional encoding is needed as LSTM plays this role in the model structure\n",
        "#It basically formulates sequences to input into the lstm and changes your data from [number_of_samples, number_of_features] to [number_of_samples, seq_length, number_of_features]\n",
        "def Transformer_Database (Timestep, XData_AR, YData_AR):\n",
        "    Features = XData_AR.shape[1]; Sample = XData_AR.shape[0]-Timestep+1\n",
        "    XDataTrainScaledRNN=np.zeros([Sample, Timestep, Features]); YDataTrainRNN=np.zeros([Sample])\n",
        "    for i in range(Sample):\n",
        "        XDataTrainScaledRNN[i,:,:] = XData_AR[i:(Timestep+i)]\n",
        "        YDataTrainRNN[i] = YData_AR[Timestep+i-1]\n",
        "    return XDataTrainScaledRNN, YDataTrainRNN"
      ]
    },
    {
      "cell_type": "code",
      "execution_count": null,
      "metadata": {
        "id": "IBv5IUZyJcl5"
      },
      "outputs": [],
      "source": [
        "Start='2020-11-14'\n",
        "End='2022-08-26'\n",
        "IndexEndDays = yf.download(\"SPY\",start=Start,  end=End, progress=False).index\n",
        "print(IndexEndDays[447])\n",
        "Target = \"TSLA\"\n",
        "Lag=5 #how many days in the future you want to predict\n",
        "LagSD=8 #how many past days do you want to include in your standard deviation \n",
        "Batch_Size=75\n",
        "Timestep=60 #how many days do you want include in one sequence you input into LSTM"
      ]
    },
    {
      "cell_type": "code",
      "execution_count": null,
      "metadata": {
        "id": "RA-O4vO_m6e_"
      },
      "outputs": [],
      "source": [
        "#Prediction of Transformed LSTM Model of Up or Down in 5 days\n",
        "model = keras.models.load_model('/content/drive/MyDrive/models_2_nonstateful')\n",
        "ResultsCollection=pd.DataFrame({'Model Type': [], 'Date_Forecast': [], 'Forecast': []})\n",
        "for i in tqdm(range(5)):\n",
        "    #Database is downloaded from yahoo finance and lag of returns defined\n",
        "    XData_Forecast = DatabaseGenerationForecast_predict(Lag, IndexEndDays, LagSD, i, 443)\n",
        "    Index_Forecast = XData_Forecast.index[-1]\n",
        "    Scaled_Norm = preprocessing.StandardScaler().fit(XData_Forecast) #StandardScaler() will normalize the features i.e. each column of X, INDIVIDUALLY, so that each column or feature will have μ = 0 and σ = 1\n",
        "    XDataForecastTotalScaled = Scaled_Norm.transform(XData_Forecast)\n",
        "    XDataForecastTotalScaled_T, Y_T = Transformer_Database(Timestep, XDataForecastTotalScaled, np.zeros(XDataForecastTotalScaled.shape[0]))\n",
        "    #Model predicting if the next trading day will have a positive or negative return in 5 days\n",
        "    TransformerPrediction = model.predict(XDataForecastTotalScaled_T, batch_size=Batch_Size)\n",
        "    IterResults={'Model Type': 'NonStateful', 'Date_Forecast': Index_Forecast, 'Forecast' : TransformerPrediction[-1]}\n",
        "    #print(history.history['loss'])\n",
        "    ResultsCollection=ResultsCollection.append(IterResults, ignore_index=True)\n",
        "    #Results are saved\n",
        "    ResultsCollection.to_csv('/content/drive/MyDrive/Colab_Results/pred_nonstateful.csv',index=False)"
      ]
    },
    {
      "cell_type": "code",
      "execution_count": 14,
      "metadata": {
        "id": "5hKstC1mm8X9"
      },
      "outputs": [],
      "source": [
        "Start='2020-10-27'\n",
        "End='2022-08-24'\n",
        "IndexEndDays = yf.download(\"SPY\",start=Start,  end=End, progress=False).index\n",
        "Target = \"TSLA\"\n",
        "Lag=5 #how many days in the future you want to predict\n",
        "LagSD=8 #how many past days do you want to include in your standard deviation \n",
        "DF=4; Timestep=45; Batch_Size=50"
      ]
    },
    {
      "cell_type": "code",
      "execution_count": null,
      "metadata": {
        "id": "6KMFPp-_mzr8"
      },
      "outputs": [],
      "source": [
        "#Prediction of Transformed LSTM Model of Up or Down in 5 days\n",
        "model = keras.models.load_model('/content/drive/MyDrive/models_1_stateful')\n",
        "for i in tqdm(range(5)):\n",
        "    #Database is downloaded from yahoo finance and lag of returns defined\n",
        "    XData_Forecast = DatabaseGenerationForecast_predict(Lag, IndexEndDays, LagSD, i, 453)\n",
        "    XDataForecast = XData_Forecast.iloc[1: , :]\n",
        "    Index_Forecast = XDataForecast.index[-1]\n",
        "    Scaled_Norm = preprocessing.StandardScaler().fit(XDataForecast) #StandardScaler() will normalize the features i.e. each column of X, INDIVIDUALLY, so that each column or feature will have μ = 0 and σ = 1\n",
        "    XDataForecastTotalScaled = Scaled_Norm.transform(XDataForecast)\n",
        "    XDataForecastTotalScaled_T, Y_T = Transformer_Database(Timestep, XDataForecastTotalScaled, np.zeros(XDataForecastTotalScaled.shape[0]))\n",
        "    #Model predicting if the next trading day will have a positive or negative return in 5 days\n",
        "    TransformerPrediction = model.predict(XDataForecastTotalScaled_T, batch_size=Batch_Size)\n",
        "    IterResults={'Model Type': 'Stateful', 'Date_Forecast': Index_Forecast, 'Forecast' : TransformerPrediction[-1]}\n",
        "    #print(history.history['loss'])\n",
        "    ResultsCollection=ResultsCollection.append(IterResults, ignore_index=True)\n",
        "    #Results are saved\n",
        "    ResultsCollection.to_csv('/content/drive/MyDrive/Colab_Results/pred_nonstateful.csv',index=False)"
      ]
    },
    {
      "cell_type": "code",
      "execution_count": 38,
      "metadata": {
        "id": "ODCOnZj3ob_V"
      },
      "outputs": [],
      "source": [
        "Start='2020-11-20'\n",
        "End='2022-08-24'\n",
        "IndexEndDays = yf.download(\"SPY\",start=Start,  end=End, progress=False).index\n",
        "Target = \"TSLA\"\n",
        "Lag=3 #how many days in the future you want to predict\n",
        "LagSD=5 #how many past days do you want to include in your standard deviation \n",
        "Timestep=30; Batch_Size=50"
      ]
    },
    {
      "cell_type": "code",
      "execution_count": null,
      "metadata": {
        "id": "2jP_AB9Xm0R0"
      },
      "outputs": [],
      "source": [
        "#Prediction of Transformed LSTM Model of Up or Down in 5 days\n",
        "model = keras.models.load_model('/content/drive/MyDrive/models_3_lag3')\n",
        "for i in tqdm(range(5)):\n",
        "    #Database is downloaded from yahoo finance and lag of returns defined\n",
        "    XData_Forecast = DatabaseGenerationForecast_predict(Lag, IndexEndDays, LagSD, i, 435)\n",
        "    XDataForecast = XData_Forecast.iloc[1: , :]\n",
        "    Index_Forecast = XDataForecast.index[-1]\n",
        "    Scaled_Norm = preprocessing.StandardScaler().fit(XDataForecast) #StandardScaler() will normalize the features i.e. each column of X, INDIVIDUALLY, so that each column or feature will have μ = 0 and σ = 1\n",
        "    XDataForecastTotalScaled = Scaled_Norm.transform(XDataForecast)\n",
        "    XDataForecastTotalScaled_T, Y_T = Transformer_Database(Timestep, XDataForecastTotalScaled, np.zeros(XDataForecastTotalScaled.shape[0]))\n",
        "    #Model predicting if the next trading day will have a positive or negative return in 5 days\n",
        "    TransformerPrediction = model.predict(XDataForecastTotalScaled_T, batch_size=Batch_Size)\n",
        "    IterResults={'Model Type': 'Lag3', 'Date_Forecast': Index_Forecast, 'Forecast' : TransformerPrediction[-1]}\n",
        "    #print(history.history['loss'])\n",
        "    ResultsCollection=ResultsCollection.append(IterResults, ignore_index=True)\n",
        "    #Results are saved\n",
        "    ResultsCollection.to_csv('/content/drive/MyDrive/Colab_Results/pred_nonstateful.csv',index=False)"
      ]
    },
    {
      "cell_type": "code",
      "execution_count": null,
      "metadata": {
        "id": "gox4cRT9J4nP"
      },
      "outputs": [],
      "source": [
        "# Train model\n",
        "print(model.summary())"
      ]
    }
  ],
  "metadata": {
    "accelerator": "GPU",
    "colab": {
      "collapsed_sections": [],
      "machine_shape": "hm",
      "name": "predict_next.ipynb",
      "provenance": []
    },
    "gpuClass": "standard",
    "kernelspec": {
      "display_name": "Python 3",
      "name": "python3"
    },
    "language_info": {
      "name": "python"
    }
  },
  "nbformat": 4,
  "nbformat_minor": 0
}